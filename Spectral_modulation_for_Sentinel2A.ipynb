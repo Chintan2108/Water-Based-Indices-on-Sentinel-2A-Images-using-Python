{
  "nbformat": 4,
  "nbformat_minor": 0,
  "metadata": {
    "colab": {
      "name": "Spectral_modulation_for_Sentinel2A",
      "provenance": []
    },
    "kernelspec": {
      "name": "python3",
      "display_name": "Python 3"
    }
  },
  "cells": [
    {
      "cell_type": "markdown",
      "metadata": {
        "id": "2Ica80EZrT6b"
      },
      "source": [
        "### Performed Spectral Modulation for Sentinel-2A Dataset\n",
        "- Results are obtained using modulations of \n",
        "\n",
        "'111211','111112','111111','112122','201111','221111','211111','111122','111110','111222','111102','111022', '111011', '111201'."
      ]
    },
    {
      "cell_type": "code",
      "metadata": {
        "colab": {
          "base_uri": "https://localhost:8080/"
        },
        "id": "8WY7wmHEmEgZ",
        "outputId": "b7485417-e524-407e-8b83-9af279c854f1"
      },
      "source": [
        "pip install rasterio\n"
      ],
      "execution_count": null,
      "outputs": [
        {
          "output_type": "stream",
          "text": [
            "Collecting rasterio\n",
            "\u001b[?25l  Downloading https://files.pythonhosted.org/packages/33/1a/51baddc8581ead98fcef591624b4b2521b581943a9178912a2ac576e0235/rasterio-1.1.8-1-cp36-cp36m-manylinux1_x86_64.whl (18.3MB)\n",
            "\u001b[K     |████████████████████████████████| 18.3MB 46.9MB/s \n",
            "\u001b[?25hRequirement already satisfied: attrs in /usr/local/lib/python3.6/dist-packages (from rasterio) (20.3.0)\n",
            "Collecting snuggs>=1.4.1\n",
            "  Downloading https://files.pythonhosted.org/packages/cc/0e/d27d6e806d6c0d1a2cfdc5d1f088e42339a0a54a09c3343f7f81ec8947ea/snuggs-1.4.7-py3-none-any.whl\n",
            "Collecting cligj>=0.5\n",
            "  Downloading https://files.pythonhosted.org/packages/42/1e/947eadf10d6804bf276eb8a038bd5307996dceaaa41cfd21b7a15ec62f5d/cligj-0.7.1-py3-none-any.whl\n",
            "Requirement already satisfied: click<8,>=4.0 in /usr/local/lib/python3.6/dist-packages (from rasterio) (7.1.2)\n",
            "Requirement already satisfied: numpy in /usr/local/lib/python3.6/dist-packages (from rasterio) (1.18.5)\n",
            "Collecting affine\n",
            "  Downloading https://files.pythonhosted.org/packages/ac/a6/1a39a1ede71210e3ddaf623982b06ecfc5c5c03741ae659073159184cd3e/affine-2.3.0-py2.py3-none-any.whl\n",
            "Collecting click-plugins\n",
            "  Downloading https://files.pythonhosted.org/packages/e9/da/824b92d9942f4e472702488857914bdd50f73021efea15b4cad9aca8ecef/click_plugins-1.1.1-py2.py3-none-any.whl\n",
            "Requirement already satisfied: pyparsing>=2.1.6 in /usr/local/lib/python3.6/dist-packages (from snuggs>=1.4.1->rasterio) (2.4.7)\n",
            "Installing collected packages: snuggs, cligj, affine, click-plugins, rasterio\n",
            "Successfully installed affine-2.3.0 click-plugins-1.1.1 cligj-0.7.1 rasterio-1.1.8 snuggs-1.4.7\n"
          ],
          "name": "stdout"
        }
      ]
    },
    {
      "cell_type": "code",
      "metadata": {
        "id": "Ry8H0ytyGbiy"
      },
      "source": [
        "import rasterio as rio\n",
        "from rasterio.plot import show\n",
        "import os\n",
        "from matplotlib import pyplot as plt\n",
        "\n",
        "import warnings\n",
        "warnings.filterwarnings('ignore')\n"
      ],
      "execution_count": null,
      "outputs": []
    },
    {
      "cell_type": "code",
      "metadata": {
        "colab": {
          "base_uri": "https://localhost:8080/"
        },
        "id": "jPxPpsyjHnCn",
        "outputId": "9c34638d-6615-4cad-ad72-61349c56febc"
      },
      "source": [
        "!pip install import-ipynb\n",
        "import import_ipynb\n",
        "# Install the PyDrive wrapper & import libraries.\n",
        "# This only needs to be done once per notebook.\n",
        "!pip install -U -q PyDrive\n",
        "from pydrive.auth import GoogleAuth\n",
        "from pydrive.drive import GoogleDrive\n",
        "from google.colab import auth\n",
        "from oauth2client.client import GoogleCredentials\n",
        "\n",
        "# Authenticate and create the PyDrive client.\n",
        "# This only needs to be done once per notebook.\n",
        "auth.authenticate_user()\n",
        "gauth = GoogleAuth()\n",
        "gauth.credentials = GoogleCredentials.get_application_default()\n",
        "drive = GoogleDrive(gauth)"
      ],
      "execution_count": null,
      "outputs": [
        {
          "output_type": "stream",
          "text": [
            "Requirement already satisfied: import-ipynb in /usr/local/lib/python3.6/dist-packages (0.1.3)\n"
          ],
          "name": "stdout"
        }
      ]
    },
    {
      "cell_type": "code",
      "metadata": {
        "id": "3TGxUJXNH922"
      },
      "source": [
        "your_module = drive.CreateFile({'id':'1wmsXiQGCur82zONnX2TwQXmUZ6g45bRz'})"
      ],
      "execution_count": null,
      "outputs": []
    },
    {
      "cell_type": "code",
      "metadata": {
        "id": "_oAdYgYGIFAU"
      },
      "source": [
        "your_module.GetContentFile('Spectral_Modulation.ipynb')"
      ],
      "execution_count": null,
      "outputs": []
    },
    {
      "cell_type": "code",
      "metadata": {
        "id": "er3ntpViILpW"
      },
      "source": [
        "import numpy as np\n",
        "import pandas as pd\n",
        "import matplotlib.pyplot as plt\n",
        "from tqdm import tqdm\n",
        "import gdal\n",
        "import osr\n",
        "import os\n",
        "import Spectral_Modulation"
      ],
      "execution_count": null,
      "outputs": []
    },
    {
      "cell_type": "markdown",
      "metadata": {
        "id": "EKSJdAayreZe"
      },
      "source": [
        "Taking Input for Okeechobe Lake,Florida US"
      ]
    },
    {
      "cell_type": "code",
      "metadata": {
        "id": "REXeIn3qJicj",
        "colab": {
          "base_uri": "https://localhost:8080/"
        },
        "outputId": "aecb0d8e-dc93-4b61-bdad-5e5eba41e23b"
      },
      "source": [
        "from Spectral_Modulation import readBand\n",
        "Okch_R20 = '/content/drive/MyDrive/Sentinel-2A Data/Okeechobee/S2B_MSIL2A_20181222T160509_N0211_R054_T17RNK_20181222T195126.SAFE/GRANULE/L2A_T17RNK_A009375_20181222T160507/IMG_DATA/R20m/'\n",
        "green=readBand('B03',Okch_R20 + 'T17RNK_20181222T160509_B03_20m.jp2')\n",
        "red=readBand('B04',Okch_R20 + 'T17RNK_20181222T160509_B04_20m.jp2')\n",
        "nir=readBand('B8A',Okch_R20 + 'T17RNK_20181222T160509_B8A_20m.jp2')\n",
        "swir=readBand('B11',Okch_R20 + 'T17RNK_20181222T160509_B11_20m.jp2')\n",
        "print(swir[0].shape)\n",
        "print(red[0].shape)\n",
        "print(green[0].shape)\n",
        "print(nir[0].shape)"
      ],
      "execution_count": null,
      "outputs": [
        {
          "output_type": "stream",
          "text": [
            "(5490, 5490)\n",
            "(5490, 5490)\n",
            "(5490, 5490)\n",
            "(5490, 5490)\n"
          ],
          "name": "stdout"
        }
      ]
    },
    {
      "cell_type": "markdown",
      "metadata": {
        "id": "DJSRT3C5r4vN"
      },
      "source": [
        "Spectral Modulation"
      ]
    },
    {
      "cell_type": "code",
      "metadata": {
        "colab": {
          "base_uri": "https://localhost:8080/"
        },
        "id": "ScBrZQkQKhCE",
        "outputId": "bccf2b2c-5423-4167-ea8c-57acb2c352ed"
      },
      "source": [
        "from Spectral_Modulation import spectral_modulation\n",
        "# 7,9,10,12,15,19,21,27,28,2930,31,32,34\n",
        "\n",
        "spectral_modulation((green,red,nir,swir),'Okeechobe_Sentinel')"
      ],
      "execution_count": null,
      "outputs": [
        {
          "output_type": "stream",
          "text": [
            "{'222222': [1, 5735819], '222221': [2, 5859501], '122221': [3, 9063922], '122222': [4, 705944], '022221': [5, 53275], '121221': [6, 56452], '111211': [7, 106873], '122220': [8, 2767], '111112': [9, 2037779], '111111': [10, 803274], '111221': [11, 136902], '112122': [12, 45880], '211112': [13, 12119], '221211': [14, 253411], '201111': [15, 13351], '011111': [16, 13424], '222211': [17, 53428], '212112': [18, 1965], '221111': [19, 944598], '121211': [20, 307885], '211111': [21, 1567147], '021211': [22, 4478], '222220': [23, 9480], '112222': [24, 37126], '222112': [25, 938], '121201': [26, 1170], '111122': [27, 1480861], '111110': [28, 66229], '111222': [29, 420639], '111102': [30, 154644], '111022': [31, 68748], '111011': [32, 20756], '111220': [33, 29286], '111201': [34, 17317], '212122': [35, 8446], '222122': [36, 6430], '222111': [37, 1336], '022222': [38, 19252], '111000': [39, 3594], '120221': [40, 1412], '022220': [41, 53], '221011': [42, 3022], '222201': [43, 1395], '222022': [44, 234], '110122': [45, 829], '102222': [46, 1073], '101211': [47, 386], '211110': [48, 351], '112022': [49, 1081], '011112': [50, 477], '110222': [51, 668], '012122': [52, 447], '202122': [53, 211], '101221': [54, 260], '222011': [55, 38], '020201': [56, 23], '210112': [57, 118], '001011': [58, 15], '220211': [59, 1164], '202112': [60, 24], '212102': [61, 101], '220111': [62, 38], '222110': [63, 38], '100220': [64, 11], '222102': [65, 39], '110022': [66, 30], '202102': [67, 2], '101201': [68, 5], '011110': [69, 9], '200110': [70, 0], '002022': [71, 21], '010102': [72, 5], '222000': [73, 0], '220011': [74, 0]}\n",
            "[[255. 255. 255. ...   0.   0.   0.]\n",
            " [255. 255. 255. ...   0.   0.   0.]\n",
            " [255. 255. 255. ...   0.   0.   0.]\n",
            " ...\n",
            " [255. 255. 255. ...   0.   0.   0.]\n",
            " [255. 255. 255. ...   0.   0.   0.]\n",
            " [255. 255. 255. ...   0.   0.   0.]]\n",
            "[[ 1.  1.  1. ... 27.  9.  9.]\n",
            " [ 1.  1.  4. ...  9.  9.  9.]\n",
            " [ 1.  1.  1. ... 30.  9. 27.]\n",
            " ...\n",
            " [ 1.  1.  1. ... 27. 27. 29.]\n",
            " [ 1.  1.  1. ... 27. 27. 27.]\n",
            " [ 1.  1.  1. ... 27. 27. 29.]]\n"
          ],
          "name": "stdout"
        }
      ]
    },
    {
      "cell_type": "markdown",
      "metadata": {
        "id": "bWPjwyeyrtJ1"
      },
      "source": [
        "Taking Input for Chilikha Lake,Orissa"
      ]
    },
    {
      "cell_type": "code",
      "metadata": {
        "id": "Grc7JIwnb6er"
      },
      "source": [
        "from Spectral_Modulation import readBand\n",
        "Chlk_R20 = '/content/drive/MyDrive/Sentinel-2A Data/Chilika /S2B_MSIL2A_20181224T045219_N0211_R076_T45QTC_20181224T081321.SAFE/GRANULE/L2A_T45QTC_A009397_20181224T050049/IMG_DATA/R20m/'\n",
        "green=readBand('B03',Chlk_R20 + 'T45QTC_20181224T045219_B03_20m.jp2')\n",
        "red=readBand('B04',Chlk_R20 + 'T45QTC_20181224T045219_B04_20m.jp2')\n",
        "nir=readBand('B8A',Chlk_R20 + 'T45QTC_20181224T045219_B8A_20m.jp2')\n",
        "swir=readBand('B11',Chlk_R20 + 'T45QTC_20181224T045219_B11_20m.jp2')"
      ],
      "execution_count": null,
      "outputs": []
    },
    {
      "cell_type": "markdown",
      "metadata": {
        "id": "WtcedOS-r1Te"
      },
      "source": [
        "Spectral Modulation"
      ]
    },
    {
      "cell_type": "code",
      "metadata": {
        "colab": {
          "base_uri": "https://localhost:8080/"
        },
        "id": "HiiqJJvwfzFQ",
        "outputId": "c7d598d7-b1a3-4db3-873e-b302287cbe62"
      },
      "source": [
        "spectral_modulation((green,red,nir,swir),'Chilikha_Sentinel')"
      ],
      "execution_count": null,
      "outputs": [
        {
          "output_type": "stream",
          "text": [
            "{'222222': [1, 6077743], '122221': [2, 21091140], '122222': [3, 99835], '111112': [4, 23427], '222221': [5, 2487986], '222220': [6, 8875], '111111': [7, 215974], '111211': [8, 9581], '222211': [9, 5540], '121211': [10, 8017], '022221': [11, 25675], '112222': [12, 2464], '022222': [13, 3532], '222022': [14, 33], '112122': [15, 1310], '211111': [16, 32838], '211112': [17, 4400], '221111': [18, 4882], '212122': [19, 1566], '121221': [20, 13401], '221211': [21, 5074], '122220': [22, 952], '222111': [23, 1114], '222122': [24, 3063], '212112': [25, 937], '111221': [26, 2953], '101221': [27, 38], '222112': [28, 765], '121201': [29, 70], '111122': [30, 3009], '011111': [31, 214], '111222': [32, 2100], '011112': [33, 35], '111110': [34, 694], '220211': [35, 26], '111011': [36, 106], '211110': [37, 58], '022220': [38, 25], '111102': [39, 20], '120221': [40, 116], '111201': [41, 52], '102222': [42, 23], '110222': [43, 13], '111022': [44, 30], '111220': [45, 39], '201111': [46, 35], '221011': [47, 22], '222201': [48, 65], '212102': [49, 6], '202122': [50, 15], '222102': [51, 11], '021211': [52, 31], '112022': [53, 13], '222011': [54, 12], '222110': [55, 11], '210112': [56, 10], '220111': [57, 7], '101211': [58, 35], '202112': [59, 5], '110122': [60, 12], '012122': [61, 2], '000000': [62, 0], '202102': [63, 0]}\n",
            "[[255. 255. 255. ... 255. 255. 255.]\n",
            " [255. 255. 255. ... 255. 255. 255.]\n",
            " [255. 255. 255. ... 255. 255. 255.]\n",
            " ...\n",
            " [255. 255. 255. ... 255. 255. 255.]\n",
            " [255. 255. 255. ... 255. 255. 255.]\n",
            " [255. 255. 255. ... 255. 255. 255.]]\n",
            "[[1. 1. 1. ... 1. 1. 1.]\n",
            " [1. 1. 1. ... 5. 5. 5.]\n",
            " [1. 1. 1. ... 5. 5. 5.]\n",
            " ...\n",
            " [2. 1. 1. ... 1. 1. 1.]\n",
            " [1. 1. 1. ... 1. 1. 1.]\n",
            " [2. 2. 2. ... 1. 1. 1.]]\n"
          ],
          "name": "stdout"
        }
      ]
    }
  ]
}